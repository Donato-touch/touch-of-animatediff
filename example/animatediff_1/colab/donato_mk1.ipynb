{
 "cells": [
  {
   "cell_type": "code",
   "execution_count": null,
   "metadata": {},
   "outputs": [],
   "source": [
    "# @title Run!\n",
    "# @markdown # 입력 비디오는 comfy_donato/input/input_video.mp4 로 준비해주세요\n",
    "# @markdown # 결과 비디오는 comfy_donato/output/donato_out_#####-audio.mp4 로 나옵니다\n",
    "\n",
    "COMFY_TAG = \"v0.3.9\"  # @param {type:\"string\"}\n",
    "MANAGER_TAG = \"2.55.5\"  # @param {type:\"string\"}\n",
    "CKPT_NAME = \"\" # @param {type:\"string\"}\n",
    "VAE_NAME = \"\" # @param {type:\"string\"}\n",
    "POSITIVE_PROMPT = \"(smile), masterpiece, best quality, ultra detailed, (white off background)\" # @param {type:\"string\"}\n",
    "NEGATIVE_PROMPT = \"(nsfw, worst quality, low quality:1.2), bad pictures, bad hand, (logo, text, watermark:1.2)\" # @param {type:\"string\"}\n",
    "\n",
    "RUN_COLAB_COMMAND = f'python donato_mk1.py --comfy-tag {COMFY_TAG} --mgr-tag {MANAGER_TAG} --ckpt-name \"{CKPT_NAME}\" --vae-name \"{VAE_NAME}\" --positive-prompt \"{POSITIVE_PROMPT}\" --negative-prompt \"{NEGATIVE_PROMPT}\"'\n",
    "\n",
    "from google.colab import drive\n",
    "drive.mount('/content/drive', force_remount=True)\n",
    "\n",
    "%cd /content/drive/MyDrive/comfy_donato\n",
    "!$RUN_COLAB_COMMAND\n",
    "\n"
   ]
  }
 ],
 "metadata": {
  "accelerator": "GPU",
  "colab": {
    "gpuType": "L4",
    "machine_shape": "hm"
  },
  "kernelspec": {
    "display_name": "Python 3",
    "name": "python3"
  },
  "language_info": {
   "name": "python"
  }
 },
 "nbformat": 4,
 "nbformat_minor": 0
}
